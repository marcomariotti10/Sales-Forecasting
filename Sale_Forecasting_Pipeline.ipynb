{
 "cells": [
  {
   "cell_type": "markdown",
   "metadata": {
    "id": "nmKMLFLdfdhL"
   },
   "source": [
    "### Connect to Drive"
   ]
  },
  {
   "cell_type": "code",
   "execution_count": null,
   "metadata": {
    "colab": {
     "base_uri": "https://localhost:8080/"
    },
    "executionInfo": {
     "elapsed": 20204,
     "status": "ok",
     "timestamp": 1702641724573,
     "user": {
      "displayName": "Simone Garbazio",
      "userId": "12530236119643894930"
     },
     "user_tz": -60
    },
    "id": "fIPnkn7fcGLp",
    "outputId": "84cce2d7-4634-48b2-b704-13cbb6002dea"
   },
   "outputs": [
    {
     "name": "stdout",
     "output_type": "stream",
     "text": [
      "Mounted at /gdrive\n",
      "/gdrive/My Drive/ANN&DL Challenges\n"
     ]
    }
   ],
   "source": [
    "# Import the Google Colab drive module to access Google Drive\n",
    "from google.colab import drive\n",
    "\n",
    "# Mount Google Drive to the '/gdrive' directory in the Colab environment\n",
    "drive.mount('/gdrive')\n",
    "\n",
    "# Change the current working directory to the Dataset folder in Google Drive\n",
    "%cd /gdrive/My Drive/Dataset"
   ]
  },
  {
   "cell_type": "markdown",
   "metadata": {
    "id": "ap3o8JayfgEM"
   },
   "source": [
    "### Import libraries"
   ]
  },
  {
   "cell_type": "code",
   "execution_count": null,
   "metadata": {
    "executionInfo": {
     "elapsed": 247,
     "status": "ok",
     "timestamp": 1702642191898,
     "user": {
      "displayName": "Simone Garbazio",
      "userId": "12530236119643894930"
     },
     "user_tz": -60
    },
    "id": "aR-w0eZ-ABIT"
   },
   "outputs": [],
   "source": [
    "# Set a fixed random seed for reproducible results across all libraries\n",
    "seed = 42\n",
    "\n",
    "# Configure environment variables for better performance and reproducibility\n",
    "import os\n",
    "# Suppress TensorFlow informational and warning messages\n",
    "os.environ['TF_CPP_MIN_LOG_LEVEL'] = '3'\n",
    "# Set Python hash seed for consistent hashing behavior\n",
    "os.environ['PYTHONHASHSEED'] = str(seed)\n",
    "# Set matplotlib configuration directory to current working directory\n",
    "os.environ['MPLCONFIGDIR'] = os.getcwd()+'/configs/'\n",
    "\n",
    "# Suppress Python warnings to clean up output\n",
    "import warnings\n",
    "warnings.simplefilter(action='ignore', category=FutureWarning)\n",
    "warnings.simplefilter(action='ignore', category=Warning)\n",
    "\n",
    "# Import NumPy and set its random seed for reproducible random number generation\n",
    "import numpy as np\n",
    "np.random.seed(seed)\n",
    "\n",
    "# Import logging module for potential use in debugging\n",
    "import logging\n",
    "\n",
    "# Import random module and set its seed for reproducible random operations\n",
    "import random\n",
    "random.seed(seed)"
   ]
  },
  {
   "cell_type": "code",
   "execution_count": null,
   "metadata": {
    "colab": {
     "base_uri": "https://localhost:8080/"
    },
    "executionInfo": {
     "elapsed": 4,
     "status": "ok",
     "timestamp": 1702642192136,
     "user": {
      "displayName": "Simone Garbazio",
      "userId": "12530236119643894930"
     },
     "user_tz": -60
    },
    "id": "e06wPZJbADcv",
    "outputId": "90382348-85dd-4747-a11d-7263bec59ac2"
   },
   "outputs": [
    {
     "name": "stdout",
     "output_type": "stream",
     "text": [
      "2.15.0\n"
     ]
    }
   ],
   "source": [
    "# Import TensorFlow and its key modules for deep learning\n",
    "import tensorflow as tf\n",
    "from tensorflow import keras as tfk\n",
    "from tensorflow.keras import layers as tfkl\n",
    "\n",
    "# Configure TensorFlow logging and verbosity settings\n",
    "tf.autograph.set_verbosity(0)  # Disable autograph verbose output\n",
    "tf.get_logger().setLevel(logging.ERROR)  # Only show error messages\n",
    "tf.compat.v1.logging.set_verbosity(tf.compat.v1.logging.ERROR)  # Legacy logging setting\n",
    "\n",
    "# Set TensorFlow random seeds for reproducible model training\n",
    "tf.random.set_seed(seed)  # TensorFlow 2.x random seed\n",
    "tf.compat.v1.set_random_seed(seed)  # TensorFlow 1.x compatibility random seed\n",
    "\n",
    "# Print TensorFlow version for reference\n",
    "print(tf.__version__)"
   ]
  },
  {
   "cell_type": "code",
   "execution_count": null,
   "metadata": {
    "executionInfo": {
     "elapsed": 3,
     "status": "ok",
     "timestamp": 1702642192136,
     "user": {
      "displayName": "Simone Garbazio",
      "userId": "12530236119643894930"
     },
     "user_tz": -60
    },
    "id": "fN6wKImkADfL"
   },
   "outputs": [],
   "source": [
    "# Import pandas for data manipulation and analysis\n",
    "import pandas as pd\n",
    "\n",
    "# Import seaborn for statistical data visualization\n",
    "import seaborn as sns\n",
    "\n",
    "# Import datetime for date and time operations\n",
    "from datetime import datetime\n",
    "\n",
    "# Import matplotlib for plotting and set default font size\n",
    "import matplotlib.pyplot as plt\n",
    "plt.rc('font', size=16)  # Set default font size for all plots\n",
    "\n",
    "# Import sklearn preprocessing and model selection utilities\n",
    "from sklearn.preprocessing import MinMaxScaler  # For feature scaling\n",
    "from sklearn.model_selection import train_test_split  # For splitting datasets"
   ]
  },
  {
   "cell_type": "markdown",
   "metadata": {
    "id": "a49TrZ82D-Fl"
   },
   "source": [
    "### Load and process data"
   ]
  },
  {
   "cell_type": "code",
   "execution_count": null,
   "metadata": {
    "executionInfo": {
     "elapsed": 1696,
     "status": "ok",
     "timestamp": 1702642195665,
     "user": {
      "displayName": "Simone Garbazio",
      "userId": "12530236119643894930"
     },
     "user_tz": -60
    },
    "id": "GdPmSVyIwF3n"
   },
   "outputs": [],
   "source": [
    "# Load the main time series dataset from numpy file\n",
    "dataset = np.load('training_data.npy')\n",
    "\n",
    "# Load category labels for each time series\n",
    "label = np.load('categories.npy')\n",
    "\n",
    "# Load valid period indices indicating which parts of each time series are valid\n",
    "valid = np.load('valid_periods.npy')"
   ]
  },
  {
   "cell_type": "code",
   "execution_count": null,
   "metadata": {
    "colab": {
     "base_uri": "https://localhost:8080/"
    },
    "executionInfo": {
     "elapsed": 4,
     "status": "ok",
     "timestamp": 1702642195665,
     "user": {
      "displayName": "Simone Garbazio",
      "userId": "12530236119643894930"
     },
     "user_tz": -60
    },
    "id": "jTOLa1ZRujWj",
    "outputId": "d14091d0-0d0b-476a-89c9-f3b3aaf9b23e"
   },
   "outputs": [
    {
     "data": {
      "text/plain": [
       "(48000, 2776)"
      ]
     },
     "execution_count": 29,
     "metadata": {},
     "output_type": "execute_result"
    }
   ],
   "source": [
    "# Display the shape of the loaded dataset (number of time series, length of each series)\n",
    "dataset.shape"
   ]
  },
  {
   "cell_type": "code",
   "execution_count": null,
   "metadata": {
    "colab": {
     "base_uri": "https://localhost:8080/"
    },
    "executionInfo": {
     "elapsed": 3,
     "status": "ok",
     "timestamp": 1702642195665,
     "user": {
      "displayName": "Simone Garbazio",
      "userId": "12530236119643894930"
     },
     "user_tz": -60
    },
    "id": "Fn-Zea5-yZOK",
    "outputId": "5b4ccec7-1966-43a9-e52a-70c8a99dea80"
   },
   "outputs": [
    {
     "data": {
      "text/plain": [
       "(48000,)"
      ]
     },
     "execution_count": 30,
     "metadata": {},
     "output_type": "execute_result"
    }
   ],
   "source": [
    "# Initialize list to store extracted valid portions of time series\n",
    "valid_dataset = []\n",
    "\n",
    "# Extract valid portions from each time series based on valid period indices\n",
    "for i,v in enumerate(valid):\n",
    "    start = v[0]  # Start index of valid period\n",
    "    end = v[1]    # End index of valid period\n",
    "    # Extract the valid portion from the time series (inclusive of end index)\n",
    "    valid_dataset.append(dataset[i][start:end+1])  # +1 to include the 'end' index\n",
    "\n",
    "# Convert the list of valid time series back to a NumPy array for efficient processing\n",
    "valid_dataset = np.array(valid_dataset)\n",
    "\n",
    "# Display the shape of the valid dataset\n",
    "valid_dataset.shape"
   ]
  },
  {
   "cell_type": "markdown",
   "metadata": {
    "id": "SnsIyw8HNPLJ"
   },
   "source": [
    "### Inspecting dataset"
   ]
  },
  {
   "cell_type": "code",
   "execution_count": null,
   "metadata": {
    "executionInfo": {
     "elapsed": 210,
     "status": "ok",
     "timestamp": 1702642217413,
     "user": {
      "displayName": "Simone Garbazio",
      "userId": "12530236119643894930"
     },
     "user_tz": -60
    },
    "id": "GGn6aNqjpr4T"
   },
   "outputs": [],
   "source": [
    "# Extract unique category labels from the dataset\n",
    "unique_labels = np.unique(label)\n",
    "\n",
    "# Calculate the length of each time series in the valid dataset\n",
    "unique_lengths = []\n",
    "for i,v in enumerate(valid_dataset):\n",
    "  unique_lengths.append(len(v))\n",
    "\n",
    "# Get unique lengths and their frequency counts\n",
    "unique_vals, unique_counts = np.unique(unique_lengths,return_counts=True)"
   ]
  },
  {
   "cell_type": "code",
   "execution_count": null,
   "metadata": {
    "colab": {
     "base_uri": "https://localhost:8080/"
    },
    "executionInfo": {
     "elapsed": 5,
     "status": "ok",
     "timestamp": 1702642217642,
     "user": {
      "displayName": "Simone Garbazio",
      "userId": "12530236119643894930"
     },
     "user_tz": -60
    },
    "id": "oF1idvm83Nko",
    "outputId": "a8d2354d-5f27-4819-c0fd-f6c2667af1e1"
   },
   "outputs": [
    {
     "name": "stdout",
     "output_type": "stream",
     "text": [
      "24 : 2\n",
      "25 : 3\n",
      "27 : 2\n",
      "28 : 1\n",
      "30 : 3\n",
      "31 : 2\n",
      "33 : 1\n",
      "35 : 1\n",
      "36 : 2\n",
      "37 : 1\n",
      "41 : 1\n",
      "42 : 37\n",
      "43 : 123\n",
      "44 : 80\n",
      "45 : 49\n",
      "46 : 41\n",
      "47 : 44\n",
      "48 : 520\n",
      "49 : 1104\n",
      "50 : 487\n",
      "51 : 6703\n",
      "52 : 659\n",
      "53 : 49\n",
      "54 : 28\n",
      "55 : 69\n",
      "56 : 272\n",
      "57 : 287\n",
      "58 : 71\n",
      "59 : 127\n",
      "60 : 312\n",
      "61 : 340\n",
      "62 : 83\n",
      "63 : 53\n",
      "64 : 965\n",
      "65 : 188\n",
      "66 : 19\n",
      "67 : 39\n",
      "68 : 30\n",
      "69 : 21\n",
      "70 : 14\n",
      "71 : 47\n",
      "72 : 69\n",
      "73 : 345\n",
      "74 : 7\n",
      "75 : 12\n",
      "76 : 11\n",
      "77 : 23\n",
      "78 : 9\n",
      "79 : 8\n",
      "80 : 32\n",
      "81 : 16\n",
      "82 : 7\n",
      "83 : 11\n",
      "84 : 625\n",
      "85 : 45\n",
      "86 : 759\n",
      "87 : 8\n",
      "88 : 11\n",
      "89 : 22\n",
      "90 : 10\n",
      "91 : 28\n",
      "92 : 56\n",
      "93 : 10\n",
      "94 : 77\n",
      "95 : 33\n",
      "96 : 44\n",
      "97 : 173\n",
      "98 : 61\n",
      "99 : 3\n",
      "100 : 15\n",
      "101 : 9\n",
      "102 : 36\n",
      "103 : 12\n",
      "104 : 8\n",
      "105 : 13\n",
      "106 : 29\n",
      "107 : 47\n",
      "108 : 132\n",
      "109 : 114\n",
      "110 : 36\n",
      "111 : 10\n",
      "112 : 11\n",
      "113 : 36\n",
      "114 : 52\n",
      "115 : 83\n",
      "116 : 73\n",
      "117 : 23\n",
      "118 : 26\n",
      "119 : 157\n",
      "120 : 101\n",
      "121 : 165\n",
      "122 : 9\n",
      "123 : 16\n",
      "124 : 35\n",
      "125 : 12\n",
      "126 : 13\n",
      "127 : 17\n",
      "128 : 13\n",
      "129 : 12\n",
      "130 : 62\n",
      "131 : 60\n",
      "132 : 353\n",
      "133 : 312\n",
      "134 : 21\n",
      "135 : 14\n",
      "136 : 51\n",
      "137 : 15\n",
      "138 : 16\n",
      "139 : 17\n",
      "140 : 155\n",
      "141 : 113\n",
      "142 : 23\n",
      "143 : 70\n",
      "144 : 282\n",
      "145 : 156\n",
      "146 : 32\n",
      "147 : 9\n",
      "148 : 36\n",
      "149 : 20\n",
      "150 : 296\n",
      "151 : 66\n",
      "152 : 24\n",
      "153 : 16\n",
      "154 : 99\n",
      "155 : 19\n",
      "156 : 443\n",
      "157 : 1373\n",
      "158 : 14\n",
      "159 : 32\n",
      "160 : 13\n",
      "161 : 22\n",
      "162 : 100\n",
      "163 : 305\n",
      "164 : 16\n",
      "165 : 27\n",
      "166 : 287\n",
      "167 : 24\n",
      "168 : 551\n",
      "169 : 143\n",
      "170 : 17\n",
      "171 : 9\n",
      "172 : 128\n",
      "173 : 159\n",
      "174 : 18\n",
      "175 : 226\n",
      "176 : 7\n",
      "177 : 13\n",
      "178 : 21\n",
      "179 : 44\n",
      "180 : 224\n",
      "181 : 176\n",
      "182 : 14\n",
      "183 : 14\n",
      "184 : 552\n",
      "185 : 47\n",
      "186 : 23\n",
      "187 : 11\n",
      "188 : 186\n",
      "189 : 21\n",
      "190 : 16\n",
      "191 : 22\n",
      "192 : 42\n",
      "193 : 139\n",
      "194 : 12\n",
      "195 : 299\n",
      "196 : 49\n",
      "197 : 3\n",
      "198 : 10\n",
      "199 : 44\n",
      "200 : 446\n",
      "201 : 10\n",
      "202 : 28\n",
      "203 : 9\n",
      "204 : 138\n",
      "205 : 76\n",
      "206 : 314\n",
      "207 : 66\n",
      "209 : 34\n",
      "210 : 16\n",
      "211 : 67\n",
      "212 : 134\n",
      "213 : 19\n",
      "214 : 85\n",
      "215 : 633\n",
      "216 : 1118\n",
      "217 : 38\n",
      "218 : 24\n",
      "219 : 153\n",
      "220 : 23\n",
      "221 : 45\n",
      "222 : 401\n",
      "223 : 10\n",
      "224 : 231\n",
      "225 : 65\n",
      "226 : 19\n",
      "227 : 74\n",
      "228 : 40\n",
      "229 : 303\n",
      "230 : 12\n",
      "231 : 8\n",
      "232 : 12\n",
      "233 : 8\n",
      "234 : 15\n",
      "235 : 17\n",
      "236 : 6\n",
      "237 : 31\n",
      "238 : 198\n",
      "239 : 43\n",
      "240 : 133\n",
      "241 : 75\n",
      "242 : 4\n",
      "243 : 5\n",
      "244 : 19\n",
      "245 : 4\n",
      "246 : 7\n",
      "247 : 4\n",
      "248 : 11\n",
      "249 : 96\n",
      "250 : 12\n",
      "251 : 111\n",
      "252 : 303\n",
      "253 : 109\n",
      "254 : 144\n",
      "255 : 30\n",
      "256 : 3\n",
      "257 : 14\n",
      "258 : 7\n",
      "259 : 6\n",
      "260 : 9\n",
      "261 : 2\n",
      "262 : 28\n",
      "263 : 189\n",
      "264 : 615\n",
      "265 : 31\n",
      "266 : 41\n",
      "267 : 193\n",
      "268 : 12\n",
      "269 : 3\n",
      "270 : 82\n",
      "271 : 409\n",
      "272 : 86\n",
      "273 : 18\n",
      "274 : 62\n",
      "275 : 105\n",
      "276 : 228\n",
      "277 : 147\n",
      "278 : 14\n",
      "279 : 9\n",
      "280 : 2\n",
      "281 : 43\n",
      "282 : 21\n",
      "283 : 13\n",
      "284 : 4\n",
      "285 : 4\n",
      "286 : 29\n",
      "287 : 181\n",
      "288 : 6400\n",
      "289 : 40\n",
      "290 : 4\n",
      "291 : 4\n",
      "292 : 3\n",
      "293 : 2\n",
      "294 : 112\n",
      "295 : 86\n",
      "296 : 8\n",
      "298 : 12\n",
      "299 : 950\n",
      "300 : 151\n",
      "301 : 18\n",
      "302 : 2\n",
      "303 : 7\n",
      "304 : 5\n",
      "305 : 2\n",
      "306 : 3\n",
      "307 : 8\n",
      "308 : 7\n",
      "309 : 25\n",
      "310 : 57\n",
      "311 : 4\n",
      "312 : 479\n",
      "313 : 18\n",
      "314 : 4\n",
      "315 : 3\n",
      "316 : 266\n",
      "317 : 95\n",
      "318 : 4\n",
      "319 : 74\n",
      "320 : 55\n",
      "321 : 3\n",
      "322 : 51\n",
      "323 : 1\n",
      "324 : 6\n",
      "325 : 34\n",
      "326 : 7\n",
      "327 : 3\n",
      "328 : 1\n",
      "329 : 22\n",
      "331 : 12\n",
      "332 : 44\n",
      "333 : 16\n",
      "334 : 491\n",
      "335 : 2\n",
      "336 : 163\n",
      "337 : 47\n",
      "338 : 4\n",
      "339 : 19\n",
      "340 : 9\n",
      "341 : 12\n",
      "342 : 10\n",
      "343 : 29\n",
      "344 : 90\n",
      "345 : 6\n",
      "346 : 12\n",
      "347 : 46\n",
      "348 : 213\n",
      "349 : 18\n",
      "350 : 22\n",
      "351 : 8\n",
      "352 : 1\n",
      "353 : 3\n",
      "355 : 9\n",
      "356 : 4\n",
      "357 : 7\n",
      "358 : 1\n",
      "359 : 2\n",
      "360 : 11\n",
      "361 : 15\n",
      "362 : 7\n",
      "363 : 16\n",
      "364 : 1\n",
      "365 : 5\n",
      "366 : 111\n",
      "367 : 7\n",
      "369 : 2\n",
      "370 : 4\n",
      "371 : 1\n",
      "372 : 20\n",
      "373 : 48\n",
      "375 : 10\n",
      "376 : 1\n",
      "377 : 2\n",
      "378 : 3\n",
      "379 : 9\n",
      "380 : 5\n",
      "381 : 179\n",
      "382 : 3\n",
      "383 : 3\n",
      "384 : 16\n",
      "385 : 12\n",
      "386 : 4\n",
      "387 : 11\n",
      "389 : 16\n",
      "391 : 17\n",
      "393 : 2\n",
      "394 : 4\n",
      "395 : 3\n",
      "396 : 23\n",
      "397 : 55\n",
      "398 : 4\n",
      "399 : 9\n",
      "400 : 1\n",
      "401 : 23\n",
      "403 : 11\n",
      "404 : 3\n",
      "405 : 6\n",
      "406 : 2\n",
      "407 : 29\n",
      "408 : 58\n",
      "409 : 68\n",
      "410 : 39\n",
      "412 : 53\n",
      "413 : 19\n",
      "414 : 658\n",
      "415 : 2\n",
      "416 : 1\n",
      "417 : 2\n",
      "418 : 2\n",
      "419 : 1\n",
      "420 : 11\n",
      "421 : 5\n",
      "422 : 5\n",
      "423 : 6\n",
      "424 : 2\n",
      "425 : 5\n",
      "426 : 2\n",
      "427 : 5\n",
      "429 : 3\n",
      "430 : 2\n",
      "431 : 4\n",
      "432 : 528\n",
      "433 : 43\n",
      "434 : 6\n",
      "435 : 5\n",
      "437 : 1\n",
      "439 : 2\n",
      "440 : 12\n",
      "441 : 4\n",
      "442 : 2\n",
      "443 : 1\n",
      "444 : 8\n",
      "445 : 1\n",
      "446 : 8\n",
      "447 : 1\n",
      "448 : 2\n",
      "449 : 16\n",
      "450 : 6\n",
      "451 : 7\n",
      "452 : 6\n",
      "453 : 2\n",
      "454 : 1\n",
      "455 : 1\n",
      "456 : 63\n",
      "457 : 10\n",
      "458 : 8\n",
      "459 : 131\n",
      "460 : 1\n",
      "461 : 1\n",
      "462 : 2\n",
      "463 : 1\n",
      "464 : 1\n",
      "466 : 4\n",
      "467 : 1\n",
      "468 : 43\n",
      "469 : 27\n",
      "470 : 2\n",
      "472 : 2\n",
      "474 : 1\n",
      "475 : 15\n",
      "477 : 1\n",
      "479 : 1\n",
      "480 : 17\n",
      "481 : 10\n",
      "482 : 11\n",
      "484 : 41\n",
      "485 : 11\n",
      "486 : 39\n",
      "487 : 1\n",
      "489 : 1\n",
      "490 : 3\n",
      "491 : 33\n",
      "492 : 19\n",
      "493 : 9\n",
      "494 : 36\n",
      "495 : 2\n",
      "496 : 32\n",
      "497 : 6\n",
      "498 : 34\n",
      "500 : 4\n",
      "501 : 21\n",
      "504 : 97\n",
      "505 : 3\n",
      "506 : 1\n",
      "509 : 1\n",
      "510 : 25\n",
      "512 : 12\n",
      "513 : 1\n",
      "514 : 1\n",
      "515 : 1\n",
      "516 : 2\n",
      "517 : 4\n",
      "518 : 2\n",
      "521 : 5\n",
      "522 : 54\n",
      "523 : 3\n",
      "524 : 15\n",
      "525 : 1\n",
      "526 : 1\n",
      "528 : 10\n",
      "529 : 4\n",
      "530 : 27\n",
      "531 : 1\n",
      "534 : 1\n",
      "535 : 2\n",
      "536 : 1\n",
      "537 : 1\n",
      "540 : 33\n",
      "541 : 40\n",
      "542 : 2\n",
      "543 : 2\n",
      "544 : 1\n",
      "545 : 1\n",
      "549 : 14\n",
      "550 : 1\n",
      "551 : 2\n",
      "552 : 8\n",
      "553 : 5\n",
      "554 : 1\n",
      "555 : 1\n",
      "556 : 2\n",
      "557 : 1\n",
      "559 : 1\n",
      "560 : 12\n",
      "563 : 2\n",
      "564 : 59\n",
      "565 : 2\n",
      "566 : 3\n",
      "567 : 3\n",
      "570 : 1\n",
      "575 : 1\n",
      "576 : 4\n",
      "577 : 1\n",
      "583 : 1\n",
      "586 : 1\n",
      "588 : 9\n",
      "593 : 1\n",
      "600 : 64\n",
      "601 : 15\n",
      "603 : 1\n",
      "607 : 1\n",
      "610 : 2\n",
      "611 : 3\n",
      "612 : 3\n",
      "613 : 1\n",
      "614 : 1\n",
      "615 : 3\n",
      "617 : 1\n",
      "619 : 1\n",
      "620 : 1\n",
      "621 : 2\n",
      "622 : 3\n",
      "624 : 6\n",
      "625 : 1\n",
      "626 : 4\n",
      "627 : 2\n",
      "628 : 1\n",
      "634 : 1\n",
      "636 : 9\n",
      "637 : 2\n",
      "646 : 1\n",
      "648 : 17\n",
      "649 : 1\n",
      "650 : 2\n",
      "651 : 2\n",
      "654 : 2\n",
      "659 : 18\n",
      "660 : 19\n",
      "661 : 6\n",
      "662 : 1\n",
      "663 : 1\n",
      "666 : 1\n",
      "671 : 1\n",
      "672 : 11\n",
      "675 : 5\n",
      "676 : 1\n",
      "680 : 1\n",
      "682 : 1\n",
      "684 : 14\n",
      "685 : 2\n",
      "686 : 9\n",
      "687 : 25\n",
      "694 : 2\n",
      "696 : 8\n",
      "697 : 2\n",
      "700 : 3\n",
      "702 : 1\n",
      "703 : 2\n",
      "708 : 15\n",
      "709 : 1\n",
      "717 : 2\n",
      "718 : 1\n",
      "720 : 16\n",
      "724 : 1\n",
      "732 : 5\n",
      "733 : 4\n",
      "735 : 1\n",
      "738 : 1\n",
      "740 : 1\n",
      "744 : 2\n",
      "751 : 2\n",
      "756 : 1\n",
      "758 : 2\n",
      "761 : 2\n",
      "765 : 1\n",
      "767 : 3\n",
      "768 : 4\n",
      "774 : 1\n",
      "775 : 1\n",
      "776 : 1\n",
      "780 : 2\n",
      "781 : 1\n",
      "789 : 1\n",
      "791 : 1\n",
      "792 : 31\n",
      "797 : 1\n",
      "801 : 1\n",
      "803 : 3\n",
      "804 : 88\n",
      "806 : 2\n",
      "813 : 1\n",
      "840 : 1\n",
      "842 : 1\n",
      "846 : 1\n",
      "873 : 2\n",
      "889 : 1\n",
      "890 : 1\n",
      "899 : 2\n",
      "900 : 58\n",
      "901 : 1\n",
      "902 : 1\n",
      "904 : 1\n",
      "923 : 1\n",
      "924 : 1\n",
      "948 : 2\n",
      "969 : 1\n",
      "972 : 1\n",
      "996 : 1\n",
      "1034 : 1\n",
      "1044 : 1\n",
      "1056 : 13\n",
      "1059 : 1\n",
      "1060 : 1\n",
      "1068 : 1\n",
      "1088 : 2\n",
      "1128 : 1\n",
      "1174 : 1\n",
      "1201 : 1\n",
      "1212 : 3\n",
      "1229 : 1\n",
      "1255 : 1\n",
      "1356 : 1\n",
      "1420 : 1\n",
      "1421 : 1\n",
      "1432 : 1\n",
      "1484 : 1\n",
      "1584 : 1\n",
      "1772 : 1\n",
      "1835 : 3\n",
      "1943 : 1\n",
      "2176 : 1\n",
      "2244 : 1\n",
      "2591 : 1\n",
      "2641 : 1\n",
      "2708 : 1\n",
      "2776 : 1\n"
     ]
    }
   ],
   "source": [
    "# Display the distribution of time series lengths (length : count)\n",
    "for i in range(len(unique_vals)):\n",
    "    print(str(unique_vals[i])+' : '+str(unique_counts[i]))"
   ]
  },
  {
   "cell_type": "code",
   "execution_count": null,
   "metadata": {
    "colab": {
     "base_uri": "https://localhost:8080/"
    },
    "executionInfo": {
     "elapsed": 3,
     "status": "ok",
     "timestamp": 1702642217642,
     "user": {
      "displayName": "Simone Garbazio",
      "userId": "12530236119643894930"
     },
     "user_tz": -60
    },
    "id": "mFA5eMrczogK",
    "outputId": "6cdfd79a-cf67-4067-c8b3-05a08a9cf884"
   },
   "outputs": [
    {
     "data": {
      "text/plain": [
       "0.3207291666666667"
      ]
     },
     "execution_count": 34,
     "metadata": {},
     "output_type": "execute_result"
    }
   ],
   "source": [
    "# Set length limit for filtering time series\n",
    "limit = 100\n",
    "count = 0\n",
    "\n",
    "# Count how many time series have length less than the limit\n",
    "for i in range(len(unique_vals)):\n",
    "  if unique_vals[i] == limit:\n",
    "    break\n",
    "  count = count + unique_counts[i]\n",
    "\n",
    "# Calculate the proportion of time series shorter than the limit\n",
    "count / 48000"
   ]
  },
  {
   "cell_type": "markdown",
   "metadata": {
    "id": "H6bU1uPqqQiS"
   },
   "source": [
    "### Delete shorter lengths (based on the limit)"
   ]
  },
  {
   "cell_type": "code",
   "execution_count": null,
   "metadata": {
    "colab": {
     "base_uri": "https://localhost:8080/"
    },
    "executionInfo": {
     "elapsed": 206,
     "status": "ok",
     "timestamp": 1702642219758,
     "user": {
      "displayName": "Simone Garbazio",
      "userId": "12530236119643894930"
     },
     "user_tz": -60
    },
    "id": "tiPQyAhSqWeo",
    "outputId": "055408eb-75d0-464e-aaa6-ac5935f3695f"
   },
   "outputs": [
    {
     "data": {
      "text/plain": [
       "(32605,)"
      ]
     },
     "execution_count": 35,
     "metadata": {},
     "output_type": "execute_result"
    }
   ],
   "source": [
    "# Filter out time series that are shorter than the specified limit\n",
    "reduced_valid_dataset = []\n",
    "for v in valid_dataset:\n",
    "  # Only keep time series with length >= limit\n",
    "  if len(v) >= limit:\n",
    "    reduced_valid_dataset.append(v)\n",
    "\n",
    "# Convert back to numpy array and update the valid_dataset\n",
    "valid_dataset = np.array(reduced_valid_dataset)\n",
    "\n",
    "# Display the shape after filtering\n",
    "valid_dataset.shape"
   ]
  },
  {
   "cell_type": "markdown",
   "metadata": {
    "id": "NxKPuP7_pdSC"
   },
   "source": [
    "### Build sequences"
   ]
  },
  {
   "cell_type": "code",
   "execution_count": null,
   "metadata": {
    "executionInfo": {
     "elapsed": 226,
     "status": "ok",
     "timestamp": 1702642232388,
     "user": {
      "displayName": "Simone Garbazio",
      "userId": "12530236119643894930"
     },
     "user_tz": -60
    },
    "id": "tViv24Bvpfl0"
   },
   "outputs": [],
   "source": [
    "# Define parameters for sequence building\n",
    "window = 200                    # Length of input sequences (historical data window)\n",
    "stride = 25                     # Step size between consecutive sequences\n",
    "telescope = 9                   # Length of prediction horizon (future values to predict)\n",
    "autoregressive_telescope = 3    # Number of steps for autoregressive prediction"
   ]
  },
  {
   "cell_type": "code",
   "execution_count": 38,
   "metadata": {
    "executionInfo": {
     "elapsed": 3,
     "status": "ok",
     "timestamp": 1702642232618,
     "user": {
      "displayName": "Simone Garbazio",
      "userId": "12530236119643894930"
     },
     "user_tz": -60
    },
    "id": "bV8W_6WgiaiK"
   },
   "outputs": [],
   "source": [
    "def build_sequences(telescope=telescope, valid_dataset = valid_dataset, categories = label, window = window, stride=stride):\n",
    "    # Sanity check to avoid runtime errors\n",
    "    assert window % stride == 0\n",
    "    dataset = [] # Slice seen\n",
    "    unseen = [] # Unseen slices\n",
    "    new_categories = [] # New categories\n",
    "\n",
    "    for i,v in enumerate(valid_dataset):\n",
    "      # Check if the dimension of the dataset can be divisible to window size\n",
    "      padding_check = len(v) % window\n",
    "      temp_dataset = np.array(v)\n",
    "\n",
    "      # If not divisible, then fix the length of the df\n",
    "      if(padding_check != 0):\n",
    "          # Compute padding length\n",
    "          padding_len = window - len(v) % window\n",
    "\n",
    "          # Compute the mean of the series\n",
    "          avg = np.mean(v)\n",
    "\n",
    "          # Fill the padding with the mean\n",
    "          padding = np.empty(padding_len, dtype='float32')\n",
    "          padding.fill(avg)\n",
    "          #padding = np.zeros(padding_len, dtype='float32')\n",
    "          temp_dataset = np.concatenate((padding,v))\n",
    "\n",
    "          assert len(temp_dataset) % window == 0\n",
    "\n",
    "      for idx in np.arange(0,len(v)-window-telescope,stride):\n",
    "          dataset.append(temp_dataset[idx:idx+window])\n",
    "          unseen.append(temp_dataset[idx+window:idx+window+telescope])\n",
    "          new_categories.append(categories[i])\n",
    "\n",
    "    dataset = np.array(dataset)\n",
    "    unseen = np.array(unseen)\n",
    "    new_categories = np.array(new_categories)\n",
    "    return dataset, unseen, new_categories"
   ]
  },
  {
   "cell_type": "code",
   "execution_count": null,
   "metadata": {
    "colab": {
     "base_uri": "https://localhost:8080/"
    },
    "executionInfo": {
     "elapsed": 1086,
     "status": "ok",
     "timestamp": 1702642233702,
     "user": {
      "displayName": "Simone Garbazio",
      "userId": "12530236119643894930"
     },
     "user_tz": -60
    },
    "id": "SUA8S0KZqEIy",
    "outputId": "ea868640-8b6c-480e-c959-21f8969b5e0b"
   },
   "outputs": [
    {
     "data": {
      "text/plain": [
       "((106452, 200), (106452, 9), (106452,))"
      ]
     },
     "execution_count": 39,
     "metadata": {},
     "output_type": "execute_result"
    }
   ],
   "source": [
    "# Build input sequences (X), target sequences (y), and categories (cat)\n",
    "X, y, cat = build_sequences(telescope)\n",
    "\n",
    "# Display the shapes of the created arrays\n",
    "X.shape, y.shape, cat.shape"
   ]
  },
  {
   "cell_type": "markdown",
   "metadata": {
    "id": "CGatDXaruLRz"
   },
   "source": [
    "### Build Train, Validation and Test set\n",
    "Distribute equally the time series of different classes among the 3 sets."
   ]
  },
  {
   "cell_type": "code",
   "execution_count": null,
   "metadata": {
    "executionInfo": {
     "elapsed": 4,
     "status": "ok",
     "timestamp": 1702642235638,
     "user": {
      "displayName": "Simone Garbazio",
      "userId": "12530236119643894930"
     },
     "user_tz": -60
    },
    "id": "EdehHWQwBuIZ"
   },
   "outputs": [],
   "source": [
    "# Convert numpy arrays to pandas DataFrames for easier manipulation\n",
    "# Each row represents one time series sequence\n",
    "X = pd.DataFrame(X)\n",
    "y = pd.DataFrame(y)"
   ]
  },
  {
   "cell_type": "code",
   "execution_count": null,
   "metadata": {
    "executionInfo": {
     "elapsed": 2,
     "status": "ok",
     "timestamp": 1702642235862,
     "user": {
      "displayName": "Simone Garbazio",
      "userId": "12530236119643894930"
     },
     "user_tz": -60
    },
    "id": "oz32_Gpsd65k"
   },
   "outputs": [],
   "source": [
    "# Add category labels to both input and target DataFrames for stratified splitting\n",
    "X['category'] = cat\n",
    "y['category'] = cat"
   ]
  },
  {
   "cell_type": "code",
   "execution_count": null,
   "metadata": {
    "executionInfo": {
     "elapsed": 332,
     "status": "ok",
     "timestamp": 1702642236192,
     "user": {
      "displayName": "Simone Garbazio",
      "userId": "12530236119643894930"
     },
     "user_tz": -60
    },
    "id": "7VK_OqTJeBq-"
   },
   "outputs": [],
   "source": [
    "# Split data into training+validation and test sets\n",
    "# Using stratify to maintain class distribution across splits\n",
    "X_train_val, X_test, y_train_val, y_test = train_test_split(\n",
    "    X,\n",
    "    y,\n",
    "    test_size = 0.1,           # 10% for testing\n",
    "    stratify = X['category'],  # Maintain category proportions\n",
    "    random_state = seed        # For reproducible splits\n",
    ")"
   ]
  },
  {
   "cell_type": "code",
   "execution_count": null,
   "metadata": {
    "colab": {
     "base_uri": "https://localhost:8080/"
    },
    "executionInfo": {
     "elapsed": 9,
     "status": "ok",
     "timestamp": 1702642236193,
     "user": {
      "displayName": "Simone Garbazio",
      "userId": "12530236119643894930"
     },
     "user_tz": -60
    },
    "id": "n5XW5DuyrmQS",
    "outputId": "824c045f-20a0-4f1b-df01-e69d8067c54e"
   },
   "outputs": [
    {
     "data": {
      "text/plain": [
       "((95806, 201), (10646, 201), (95806, 10), (10646, 10))"
      ]
     },
     "execution_count": 43,
     "metadata": {},
     "output_type": "execute_result"
    }
   ],
   "source": [
    "# Verify the shapes after the first split\n",
    "X_train_val.shape, X_test.shape, y_train_val.shape, y_test.shape"
   ]
  },
  {
   "cell_type": "code",
   "execution_count": null,
   "metadata": {
    "colab": {
     "base_uri": "https://localhost:8080/"
    },
    "executionInfo": {
     "elapsed": 339,
     "status": "ok",
     "timestamp": 1702642236525,
     "user": {
      "displayName": "Simone Garbazio",
      "userId": "12530236119643894930"
     },
     "user_tz": -60
    },
    "id": "q1RFd6NxrkXj",
    "outputId": "288f4bdc-f1fa-4179-8cda-0c4d98a33042"
   },
   "outputs": [
    {
     "data": {
      "text/plain": [
       "((85160, 201), (10646, 201), (85160, 10), (10646, 10))"
      ]
     },
     "execution_count": 44,
     "metadata": {},
     "output_type": "execute_result"
    }
   ],
   "source": [
    "# Further split training+validation into separate training and validation sets\n",
    "# Validation set size equals test set size for balanced evaluation\n",
    "X_train, X_val, y_train, y_val = train_test_split(\n",
    "    X_train_val,\n",
    "    y_train_val,\n",
    "    test_size = len(X_test),              # Same size as test set\n",
    "    stratify = X_train_val['category'],   # Maintain category proportions\n",
    "    random_state = seed,                  # For reproducible splits\n",
    ")\n",
    "\n",
    "# Display shapes of all splits\n",
    "X_train.shape, X_val.shape, y_train.shape, y_val.shape"
   ]
  },
  {
   "cell_type": "code",
   "execution_count": null,
   "metadata": {
    "executionInfo": {
     "elapsed": 10,
     "status": "ok",
     "timestamp": 1702642236526,
     "user": {
      "displayName": "Simone Garbazio",
      "userId": "12530236119643894930"
     },
     "user_tz": -60
    },
    "id": "uW-890jqump-"
   },
   "outputs": [],
   "source": [
    "# Remove the 'category' column from all datasets as it's no longer needed\n",
    "# Keep only the time series data for model training\n",
    "X_train = X_train.drop('category', axis=1)\n",
    "X_val = X_val.drop('category', axis=1)\n",
    "X_test = X_test.drop('category', axis=1)\n",
    "\n",
    "y_train = y_train.drop('category', axis=1)\n",
    "y_val = y_val.drop('category', axis=1)\n",
    "y_test = y_test.drop('category', axis=1)"
   ]
  },
  {
   "cell_type": "code",
   "execution_count": null,
   "metadata": {
    "colab": {
     "base_uri": "https://localhost:8080/"
    },
    "executionInfo": {
     "elapsed": 9,
     "status": "ok",
     "timestamp": 1702642236526,
     "user": {
      "displayName": "Simone Garbazio",
      "userId": "12530236119643894930"
     },
     "user_tz": -60
    },
    "id": "v8Ymjj93vqHg",
    "outputId": "ce0166d3-50f2-4bcf-c6ff-c96ac234beca"
   },
   "outputs": [
    {
     "data": {
      "text/plain": [
       "((85160, 200), (85160, 9), (10646, 200), (10646, 9), (10646, 200), (10646, 9))"
      ]
     },
     "execution_count": 46,
     "metadata": {},
     "output_type": "execute_result"
    }
   ],
   "source": [
    "# Verify final shapes of all datasets after preprocessing\n",
    "X_train.shape, y_train.shape, X_val.shape, y_val.shape, X_test.shape, y_test.shape"
   ]
  },
  {
   "cell_type": "code",
   "execution_count": null,
   "metadata": {
    "colab": {
     "base_uri": "https://localhost:8080/"
    },
    "executionInfo": {
     "elapsed": 8,
     "status": "ok",
     "timestamp": 1702642236526,
     "user": {
      "displayName": "Simone Garbazio",
      "userId": "12530236119643894930"
     },
     "user_tz": -60
    },
    "id": "O7MsPsqdKswO",
    "outputId": "eb311d91-d005-4a16-ef2a-b6eda5b3bc51"
   },
   "outputs": [
    {
     "data": {
      "text/plain": [
       "(85160, 3)"
      ]
     },
     "execution_count": 47,
     "metadata": {},
     "output_type": "execute_result"
    }
   ],
   "source": [
    "# Adjust target sequences for autoregressive prediction\n",
    "# Reduce prediction horizon to match autoregressive telescope size\n",
    "to_cut = telescope - autoregressive_telescope  # Calculate how much to cut\n",
    "y_train = pd.DataFrame(y_train)\n",
    "y_train = y_train.iloc[:,:-to_cut]  # Remove last 'to_cut' columns\n",
    "y_train.shape"
   ]
  },
  {
   "cell_type": "code",
   "execution_count": null,
   "metadata": {
    "colab": {
     "base_uri": "https://localhost:8080/"
    },
    "executionInfo": {
     "elapsed": 7,
     "status": "ok",
     "timestamp": 1702642236526,
     "user": {
      "displayName": "Simone Garbazio",
      "userId": "12530236119643894930"
     },
     "user_tz": -60
    },
    "id": "ODzHMEZsLxDk",
    "outputId": "82872de2-7873-4195-cf12-78e88fdf0a09"
   },
   "outputs": [
    {
     "data": {
      "text/plain": [
       "(10646, 3)"
      ]
     },
     "execution_count": 48,
     "metadata": {},
     "output_type": "execute_result"
    }
   ],
   "source": [
    "# Apply the same target adjustment to validation set\n",
    "y_val = pd.DataFrame(y_val)\n",
    "y_val = y_val.iloc[:,:-to_cut]  # Remove last 'to_cut' columns\n",
    "y_val.shape"
   ]
  },
  {
   "cell_type": "code",
   "execution_count": null,
   "metadata": {
    "executionInfo": {
     "elapsed": 8,
     "status": "ok",
     "timestamp": 1702642236527,
     "user": {
      "displayName": "Simone Garbazio",
      "userId": "12530236119643894930"
     },
     "user_tz": -60
    },
    "id": "Pg1tYy_lraHu"
   },
   "outputs": [],
   "source": [
    "# Add an extra dimension to all datasets for neural network compatibility\n",
    "# Convert from 2D (samples, features) to 3D (samples, timesteps, features)\n",
    "X_train = np.expand_dims(X_train, axis=-1)\n",
    "X_val = np.expand_dims(X_val, axis=-1)\n",
    "X_test = np.expand_dims(X_test, axis=-1)\n",
    "\n",
    "y_train = np.expand_dims(y_train, axis=-1)\n",
    "y_val = np.expand_dims(y_val, axis=-1)\n",
    "y_test = np.expand_dims(y_test, axis=-1)"
   ]
  },
  {
   "cell_type": "code",
   "execution_count": null,
   "metadata": {
    "colab": {
     "base_uri": "https://localhost:8080/"
    },
    "executionInfo": {
     "elapsed": 8,
     "status": "ok",
     "timestamp": 1702642236527,
     "user": {
      "displayName": "Simone Garbazio",
      "userId": "12530236119643894930"
     },
     "user_tz": -60
    },
    "id": "0HNPwSc0rx2n",
    "outputId": "75af8499-7a3e-4bb2-a93d-7aab343f109e"
   },
   "outputs": [
    {
     "data": {
      "text/plain": [
       "((85160, 200, 1),\n",
       " (85160, 3, 1),\n",
       " (10646, 200, 1),\n",
       " (10646, 3, 1),\n",
       " (10646, 200, 1),\n",
       " (10646, 9, 1))"
      ]
     },
     "execution_count": 50,
     "metadata": {},
     "output_type": "execute_result"
    }
   ],
   "source": [
    "# Final verification of all dataset shapes after dimension expansion\n",
    "X_train.shape, y_train.shape, X_val.shape, y_val.shape, X_test.shape, y_test.shape"
   ]
  },
  {
   "cell_type": "markdown",
   "metadata": {
    "id": "sWoSxRuc9-vi"
   },
   "source": [
    "### Train the model"
   ]
  },
  {
   "cell_type": "code",
   "execution_count": null,
   "metadata": {
    "executionInfo": {
     "elapsed": 227,
     "status": "ok",
     "timestamp": 1702642245738,
     "user": {
      "displayName": "Simone Garbazio",
      "userId": "12530236119643894930"
     },
     "user_tz": -60
    },
    "id": "O_dB1Ssz-CYy"
   },
   "outputs": [],
   "source": [
    "# Define model architecture and training parameters\n",
    "input_shape = X_train.shape[1:]   # Shape of input sequences (timesteps, features)\n",
    "output_shape = y_train.shape[1:]  # Shape of output sequences (timesteps, features)\n",
    "batch_size = 64                   # Number of samples per training batch\n",
    "epochs = 200                      # Maximum number of training epochs"
   ]
  },
  {
   "cell_type": "code",
   "execution_count": 52,
   "metadata": {
    "executionInfo": {
     "elapsed": 3,
     "status": "ok",
     "timestamp": 1702642246989,
     "user": {
      "displayName": "Simone Garbazio",
      "userId": "12530236119643894930"
     },
     "user_tz": -60
    },
    "id": "r38MQcU4phAB"
   },
   "outputs": [],
   "source": [
    "def build_CONV_LSTM_model(input_shape, output_shape):\n",
    "    # Ensure the input time steps are at least as many as the output time steps\n",
    "    assert input_shape[0] >= output_shape[0], \"For this exercise we want input time steps to be >= of output time steps\"\n",
    "\n",
    "    # Define the input layer with the specified shape\n",
    "    input_layer = tfkl.Input(shape=input_shape, name='input_layer')\n",
    "\n",
    "    # Add a Bidirectional LSTM layer with 64 units\n",
    "    x = tfkl.Bidirectional(tfkl.GRU(32, return_sequences=True, name='gru'), name='bidirectional_gru')(input_layer)\n",
    "    x = tfkl.Conv1D(128, 3, padding='same', activation='gelu', name='conv2')(x)\n",
    "\n",
    "    x = tfkl.Bidirectional(tfkl.GRU(32, return_sequences=True, name='gru'), name='bidirectional_gru1')(x)\n",
    "    x = tfkl.Conv1D(128, 3, padding='same', activation='gelu', name='conv')(x)\n",
    "\n",
    "    # Add a 1D Convolution layer with 128 filters and a kernel size of 3\n",
    "    x = tfkl.Bidirectional(tfkl.GRU(32, return_sequences=True, name='gru'), name='bidirectional_gru2')(x)\n",
    "    x = tfkl.Conv1D(128, 3, padding='same', activation='gelu', name='conv1')(x)\n",
    "\n",
    "    # Add a final Convolution layer to match the desired output shape\n",
    "    output_layer = tfkl.Conv1D(output_shape[1], 3, padding='same', name='output_layer')(x)\n",
    "\n",
    "    # Calculate the size to crop from the output to match the output shape\n",
    "    crop_size = output_layer.shape[1] - output_shape[0]\n",
    "\n",
    "    # Crop the output to the desired length\n",
    "    output_layer = tfkl.Cropping1D((0, crop_size), name='cropping')(output_layer)\n",
    "\n",
    "    # Construct the model by connecting input and output layers\n",
    "    model = tf.keras.Model(inputs=input_layer, outputs=output_layer, name='CONV_LSTM_model')\n",
    "\n",
    "    # Compile the model with Mean Squared Error loss and Adam optimizer\n",
    "    model.compile(loss=tf.keras.losses.MeanSquaredError(), optimizer=tf.keras.optimizers.Adam())\n",
    "\n",
    "    return model"
   ]
  },
  {
   "cell_type": "code",
   "execution_count": null,
   "metadata": {
    "colab": {
     "base_uri": "https://localhost:8080/",
     "height": 1000
    },
    "executionInfo": {
     "elapsed": 1932,
     "status": "ok",
     "timestamp": 1702642251359,
     "user": {
      "displayName": "Simone Garbazio",
      "userId": "12530236119643894930"
     },
     "user_tz": -60
    },
    "id": "MhAmgJKZCGIl",
    "outputId": "9fb964ed-4ddd-427c-fd8c-a4315f896892"
   },
   "outputs": [
    {
     "name": "stdout",
     "output_type": "stream",
     "text": [
      "Model: \"CONV_LSTM_model\"\n",
      "_________________________________________________________________\n",
      " Layer (type)                Output Shape              Param #   \n",
      "=================================================================\n",
      " input_layer (InputLayer)    [(None, 200, 1)]          0         \n",
      "                                                                 \n",
      " bidirectional_gru (Bidirec  (None, 200, 64)           6720      \n",
      " tional)                                                         \n",
      "                                                                 \n",
      " conv2 (Conv1D)              (None, 200, 128)          24704     \n",
      "                                                                 \n",
      " bidirectional_gru1 (Bidire  (None, 200, 64)           31104     \n",
      " ctional)                                                        \n",
      "                                                                 \n",
      " conv (Conv1D)               (None, 200, 128)          24704     \n",
      "                                                                 \n",
      " bidirectional_gru2 (Bidire  (None, 200, 64)           31104     \n",
      " ctional)                                                        \n",
      "                                                                 \n",
      " conv1 (Conv1D)              (None, 200, 128)          24704     \n",
      "                                                                 \n",
      " output_layer (Conv1D)       (None, 200, 1)            385       \n",
      "                                                                 \n",
      " cropping (Cropping1D)       (None, 3, 1)              0         \n",
      "                                                                 \n",
      "=================================================================\n",
      "Total params: 143425 (560.25 KB)\n",
      "Trainable params: 143425 (560.25 KB)\n",
      "Non-trainable params: 0 (0.00 Byte)\n",
      "_________________________________________________________________\n"
     ]
    },
    {
     "data": {
      "image/png": "[encoded data removed]",
      "text/plain": [
       "<IPython.core.display.Image object>"
      ]
     },
     "execution_count": 53,
     "metadata": {},
     "output_type": "execute_result"
    }
   ],
   "source": [
    "# Build the Conv-GRU model with specified input and output shapes\n",
    "model = build_CONV_LSTM_model(input_shape, output_shape)\n",
    "\n",
    "# Display model architecture summary\n",
    "model.summary()\n",
    "\n",
    "# Visualize the model architecture with layer shapes\n",
    "tfk.utils.plot_model(model, expand_nested=True, show_shapes=True)"
   ]
  },
  {
   "cell_type": "code",
   "execution_count": null,
   "metadata": {
    "colab": {
     "base_uri": "https://localhost:8080/"
    },
    "executionInfo": {
     "elapsed": 1249885,
     "status": "ok",
     "timestamp": 1702643742481,
     "user": {
      "displayName": "Simone Garbazio",
      "userId": "12530236119643894930"
     },
     "user_tz": -60
    },
    "id": "O7G8QMjKsgk_",
    "outputId": "d7e7d993-9a57-42b6-c860-470e74d347cc"
   },
   "outputs": [
    {
     "name": "stdout",
     "output_type": "stream",
     "text": [
      "Epoch 1/200\n",
      "1331/1331 [==============================] - 67s 50ms/step - loss: 0.0376 - val_loss: 0.0084 - lr: 0.0010\n",
      "Epoch 2/200\n",
      "1331/1331 [==============================] - 62s 47ms/step - loss: 0.0055 - val_loss: 0.0049 - lr: 0.0010\n",
      "Epoch 3/200\n",
      "1331/1331 [==============================] - 63s 48ms/step - loss: 0.0045 - val_loss: 0.0044 - lr: 0.0010\n",
      "Epoch 4/200\n",
      "1331/1331 [==============================] - 62s 47ms/step - loss: 0.0043 - val_loss: 0.0044 - lr: 0.0010\n",
      "Epoch 5/200\n",
      "1331/1331 [==============================] - 61s 46ms/step - loss: 0.0041 - val_loss: 0.0040 - lr: 0.0010\n",
      "Epoch 6/200\n",
      "1331/1331 [==============================] - 61s 46ms/step - loss: 0.0040 - val_loss: 0.0038 - lr: 0.0010\n",
      "Epoch 7/200\n",
      "1331/1331 [==============================] - 63s 47ms/step - loss: 0.0037 - val_loss: 0.0038 - lr: 0.0010\n",
      "Epoch 8/200\n",
      "1331/1331 [==============================] - 62s 46ms/step - loss: 0.0035 - val_loss: 0.0038 - lr: 0.0010\n",
      "Epoch 9/200\n",
      "1331/1331 [==============================] - 61s 46ms/step - loss: 0.0034 - val_loss: 0.0035 - lr: 0.0010\n",
      "Epoch 10/200\n",
      "1331/1331 [==============================] - 64s 48ms/step - loss: 0.0034 - val_loss: 0.0035 - lr: 0.0010\n",
      "Epoch 11/200\n",
      "1331/1331 [==============================] - 62s 47ms/step - loss: 0.0033 - val_loss: 0.0033 - lr: 0.0010\n",
      "Epoch 12/200\n",
      "1331/1331 [==============================] - 62s 46ms/step - loss: 0.0032 - val_loss: 0.0032 - lr: 0.0010\n",
      "Epoch 13/200\n",
      "1331/1331 [==============================] - 62s 46ms/step - loss: 0.0032 - val_loss: 0.0033 - lr: 0.0010\n",
      "Epoch 14/200\n",
      "1331/1331 [==============================] - 63s 47ms/step - loss: 0.0031 - val_loss: 0.0033 - lr: 0.0010\n",
      "Epoch 15/200\n",
      "1331/1331 [==============================] - 64s 48ms/step - loss: 0.0031 - val_loss: 0.0031 - lr: 0.0010\n",
      "Epoch 16/200\n",
      "1331/1331 [==============================] - 62s 47ms/step - loss: 0.0030 - val_loss: 0.0031 - lr: 0.0010\n",
      "Epoch 17/200\n",
      "1331/1331 [==============================] - 61s 46ms/step - loss: 0.0030 - val_loss: 0.0032 - lr: 0.0010\n",
      "Epoch 18/200\n",
      "1331/1331 [==============================] - 61s 46ms/step - loss: 0.0030 - val_loss: 0.0032 - lr: 0.0010\n",
      "Epoch 19/200\n",
      "1331/1331 [==============================] - 61s 46ms/step - loss: 0.0029 - val_loss: 0.0031 - lr: 0.0010\n",
      "Epoch 20/200\n",
      "1331/1331 [==============================] - 64s 48ms/step - loss: 0.0029 - val_loss: 0.0034 - lr: 0.0010\n"
     ]
    }
   ],
   "source": [
    "# Train the model with training and validation data\n",
    "history = model.fit(\n",
    "    X_train,                    # Training input sequences\n",
    "    y_train,                    # Training target sequences\n",
    "    validation_data=(X_val,y_val),  # Validation data for monitoring\n",
    "    epochs=epochs,              # Maximum number of epochs\n",
    "    batch_size=batch_size,      # Batch size for training\n",
    "    verbose=1,                  # Print training progress\n",
    "    callbacks = [\n",
    "        # Stop training early if validation loss stops improving\n",
    "        tfk.callbacks.EarlyStopping(monitor='val_loss', mode='min', patience=5, \n",
    "                                  restore_best_weights=True, min_delta = 0.0001),\n",
    "        # Reduce learning rate when validation loss plateaus\n",
    "        tfk.callbacks.ReduceLROnPlateau(monitor='val_loss', mode='min', patience=5, \n",
    "                                      factor=0.1, min_lr=1e-5)\n",
    "    ]\n",
    ").history"
   ]
  },
  {
   "cell_type": "code",
   "execution_count": null,
   "metadata": {
    "colab": {
     "base_uri": "https://localhost:8080/",
     "height": 660
    },
    "executionInfo": {
     "elapsed": 33519,
     "status": "ok",
     "timestamp": 1702643775994,
     "user": {
      "displayName": "Simone Garbazio",
      "userId": "12530236119643894930"
     },
     "user_tz": -60
    },
    "id": "GLUlKfK0CGDg",
    "outputId": "d01fac90-1ab9-4f41-8394-3f2204a397eb"
   },
   "outputs": [
    {
     "data": {
      "image/png": "[encoded data removed]",
      "text/plain": [
       "<Figure size 1700x400 with 1 Axes>"
      ]
     },
     "metadata": {},
     "output_type": "display_data"
    },
    {
     "data": {
      "image/png": "[encoded data removed]",
      "text/plain": [
       "<Figure size 1800x300 with 1 Axes>"
      ]
     },
     "metadata": {},
     "output_type": "display_data"
    }
   ],
   "source": [
    "# Find the epoch with the best (lowest) validation loss\n",
    "best_epoch = np.argmin(history['val_loss'])\n",
    "\n",
    "# Plot training and validation loss over epochs\n",
    "plt.figure(figsize=(17,4))\n",
    "plt.plot(history['loss'], label='Training loss', alpha=.8, color='#ff7f0e')\n",
    "plt.plot(history['val_loss'], label='Validation loss', alpha=.9, color='#5a9aa5')\n",
    "plt.axvline(x=best_epoch, label='Best epoch', alpha=.3, ls='--', color='#5a9aa5')\n",
    "plt.title('Mean Squared Error')\n",
    "plt.legend()\n",
    "plt.grid(alpha=.3)\n",
    "plt.show()\n",
    "\n",
    "# Plot learning rate schedule over epochs\n",
    "plt.figure(figsize=(18,3))\n",
    "plt.plot(history['lr'], label='Learning Rate', alpha=.8, color='#ff7f0e')\n",
    "plt.axvline(x=best_epoch, label='Best epoch', alpha=.3, ls='--', color='#5a9aa5')\n",
    "plt.legend()\n",
    "plt.grid(alpha=.3)\n",
    "plt.show()"
   ]
  },
  {
   "cell_type": "code",
   "execution_count": null,
   "metadata": {
    "executionInfo": {
     "elapsed": 27079,
     "status": "ok",
     "timestamp": 1702643803068,
     "user": {
      "displayName": "Simone Garbazio",
      "userId": "12530236119643894930"
     },
     "user_tz": -60
    },
    "id": "TD4twq6I5x60"
   },
   "outputs": [],
   "source": [
    "# Save the trained model with a descriptive filename\n",
    "model.save('Conv_GRU32_Gelu_NoUnder100Seq_Stride25_Autoreg')"
   ]
  },
  {
   "cell_type": "code",
   "execution_count": null,
   "metadata": {
    "id": "XBX_jC0H41Dx"
   },
   "outputs": [],
   "source": [
    "# Load the previously saved trained model\n",
    "model = tfk.models.load_model('Conv_GRU32_Gelu_NoUnder100Seq_Stride25_Autoreg')"
   ]
  },
  {
   "cell_type": "markdown",
   "metadata": {
    "id": "t7jhU-1ls3Fi"
   },
   "source": [
    "### Autoregressive prediction"
   ]
  },
  {
   "cell_type": "code",
   "execution_count": null,
   "metadata": {
    "executionInfo": {
     "elapsed": 28230,
     "status": "ok",
     "timestamp": 1702643831294,
     "user": {
      "displayName": "Simone Garbazio",
      "userId": "12530236119643894930"
     },
     "user_tz": -60
    },
    "id": "goDX0JrfY2T6"
   },
   "outputs": [],
   "source": [
    "# Perform autoregressive forecasting on test data\n",
    "# Predict step by step, using previous predictions as input for next predictions\n",
    "reg_predictions = np.array([])  # Store all predictions\n",
    "X_temp = X_test                 # Working copy of test input\n",
    "\n",
    "# Loop through prediction steps with autoregressive telescope size\n",
    "for reg in range(0,telescope,autoregressive_telescope):\n",
    "    # Make prediction for current step\n",
    "    pred_temp = model.predict(X_temp,verbose=0)\n",
    "    \n",
    "    # Store predictions (first iteration or concatenate with previous)\n",
    "    if(len(reg_predictions)==0):\n",
    "        reg_predictions = pred_temp\n",
    "    else:\n",
    "        reg_predictions = np.concatenate((reg_predictions,pred_temp),axis=1)\n",
    "    \n",
    "    # Update input for next iteration: remove oldest values and add new predictions\n",
    "    X_temp = np.concatenate((X_temp[:,autoregressive_telescope:,:],pred_temp), axis=1)"
   ]
  },
  {
   "cell_type": "code",
   "execution_count": null,
   "metadata": {
    "colab": {
     "base_uri": "https://localhost:8080/"
    },
    "executionInfo": {
     "elapsed": 46,
     "status": "ok",
     "timestamp": 1702643831294,
     "user": {
      "displayName": "Simone Garbazio",
      "userId": "12530236119643894930"
     },
     "user_tz": -60
    },
    "id": "bb_tyb-mC4v7",
    "outputId": "2e801414-1403-4872-f5c5-aad85e128442"
   },
   "outputs": [
    {
     "data": {
      "text/plain": [
       "(10646, 9, 1)"
      ]
     },
     "execution_count": 59,
     "metadata": {},
     "output_type": "execute_result"
    }
   ],
   "source": [
    "# Display the shape of the autoregressive predictions\n",
    "reg_predictions.shape"
   ]
  },
  {
   "cell_type": "code",
   "execution_count": null,
   "metadata": {
    "colab": {
     "base_uri": "https://localhost:8080/"
    },
    "executionInfo": {
     "elapsed": 41,
     "status": "ok",
     "timestamp": 1702643831294,
     "user": {
      "displayName": "Simone Garbazio",
      "userId": "12530236119643894930"
     },
     "user_tz": -60
    },
    "id": "lSLQlEA1Y7qR",
    "outputId": "6640c827-28d6-45c3-f307-c1d4918f74be"
   },
   "outputs": [
    {
     "name": "stdout",
     "output_type": "stream",
     "text": [
      "Predictions shape: (10646, 9, 1)\n",
      "Mean Squared Error: 0.005259096156805754\n",
      "Mean Absolute Error: 0.045672934502363205\n"
     ]
    }
   ],
   "source": [
    "# Evaluate model performance on test data\n",
    "\n",
    "# Print the shape of the predictions for verification\n",
    "print(f\"Predictions shape: {reg_predictions.shape}\")\n",
    "\n",
    "# Calculate and display Mean Squared Error (MSE)\n",
    "# Flatten arrays to compute error across all predicted values\n",
    "mean_squared_error = tfk.metrics.mean_squared_error(y_test.flatten(), reg_predictions.flatten()).numpy()\n",
    "print(f\"Mean Squared Error: {mean_squared_error}\")\n",
    "\n",
    "# Calculate and display Mean Absolute Error (MAE)\n",
    "# MAE is less sensitive to outliers than MSE\n",
    "mean_absolute_error = tfk.metrics.mean_absolute_error(y_test.flatten(), reg_predictions.flatten()).numpy()\n",
    "print(f\"Mean Absolute Error: {mean_absolute_error}\")"
   ]
  }
 ],
 "metadata": {
  "accelerator": "GPU",
  "colab": {
   "provenance": [
    {
     "file_id": "1hZoCWoOnJ3T52WuJ-OVVqtWpNLYutCl4",
     "timestamp": 1702641636217
    },
    {
     "file_id": "1EukIKB9Ly3TT396QRgT1zdDspl4gzHbG",
     "timestamp": 1702466807855
    },
    {
     "file_id": "1LcbQg4X5jWqjsmtNYCsh__EFdn_O4kbA",
     "timestamp": 1702466302804
    }
   ]
  },
  "kernelspec": {
   "display_name": "Python 3",
   "name": "python3"
  },
  "language_info": {
   "codemirror_mode": {
    "name": "ipython",
    "version": 3
   },
   "file_extension": ".py",
   "mimetype": "text/x-python",
   "name": "python",
   "nbconvert_exporter": "python",
   "pygments_lexer": "ipython3",
   "version": "3.8.10"
  }
 },
 "nbformat": 4,
 "nbformat_minor": 0
}
